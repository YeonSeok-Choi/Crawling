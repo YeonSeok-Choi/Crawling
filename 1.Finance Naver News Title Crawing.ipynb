{
 "cells": [
  {
   "cell_type": "code",
   "execution_count": 1,
   "metadata": {},
   "outputs": [],
   "source": [
    "import pandas as pd\n",
    "import time\n",
    "from selenium import webdriver\n",
    "from selenium.common.exceptions import NoSuchElementException"
   ]
  },
  {
   "cell_type": "code",
   "execution_count": 2,
   "metadata": {},
   "outputs": [],
   "source": [
    "# 서브 타이틀은 크롤링 안함\n",
    "def naver_news_crawler(page):\n",
    "    driver = webdriver.Chrome(\"chromedriver.exe\")\n",
    "    \n",
    "    title = []\n",
    "    writer = []\n",
    "    date = []\n",
    "    \n",
    "    for i in range(page):\n",
    "        news_url = 'https://finance.naver.com/item/news_news.naver?code=005930&page=' + (str(i+1))\n",
    "        time.sleep(2)\n",
    "        driver.get(news_url)\n",
    "        \n",
    "        try:\n",
    "            is_alert = driver.switch_to_alert()\n",
    "            is_alert.dismiss()\n",
    "        \n",
    "        except:\n",
    "            for j in range(1,16):\n",
    "                try:\n",
    "                    news_title = driver.find_element_by_xpath(\"//html/body/div/table[1]/tbody/tr[%d]/td[1]/a\" %j).text\n",
    "                    news_writer = driver.find_element_by_xpath(\"//html/body/div/table[1]/tbody/tr[%d]/td[2]\" %j).text\n",
    "                    news_date = driver.find_element_by_xpath(\"//html/body/div/table[1]/tbody/tr[%d]/td[3]\" %j).text\n",
    "                    \n",
    "                    title.append(news_title)\n",
    "                    writer.append(news_writer)\n",
    "                    date.append(news_date)\n",
    "                except NoSuchElementException:\n",
    "                    pass\n",
    "\n",
    "#     print(title)\n",
    "#     print(writer)\n",
    "#     print(date)\n",
    "    \n",
    "    df = pd.DataFrame({'제목':title, '정보제공':writer, '날짜':date})\n",
    "    df.to_csv('news.csv',encoding='utf-8-sig')\n",
    "    driver.close()"
   ]
  },
  {
   "cell_type": "code",
   "execution_count": 3,
   "metadata": {
    "scrolled": true
   },
   "outputs": [
    {
     "name": "stderr",
     "output_type": "stream",
     "text": [
      "<ipython-input-2-91a522c7b8c4>:15: DeprecationWarning: use driver.switch_to.alert instead\n",
      "  is_alert = driver.switch_to_alert()\n"
     ]
    }
   ],
   "source": [
    "naver_news_crawler(3)"
   ]
  },
  {
   "cell_type": "code",
   "execution_count": null,
   "metadata": {},
   "outputs": [],
   "source": []
  }
 ],
 "metadata": {
  "kernelspec": {
   "display_name": "Python 3",
   "language": "python",
   "name": "python3"
  },
  "language_info": {
   "codemirror_mode": {
    "name": "ipython",
    "version": 3
   },
   "file_extension": ".py",
   "mimetype": "text/x-python",
   "name": "python",
   "nbconvert_exporter": "python",
   "pygments_lexer": "ipython3",
   "version": "3.8.3"
  }
 },
 "nbformat": 4,
 "nbformat_minor": 4
}
